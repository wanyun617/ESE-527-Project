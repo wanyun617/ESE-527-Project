{
 "cells": [
  {
   "cell_type": "markdown",
   "id": "610ab7df",
   "metadata": {},
   "source": [
    "### Data Loading"
   ]
  },
  {
   "cell_type": "code",
   "execution_count": 1,
   "id": "7a7ab772",
   "metadata": {},
   "outputs": [],
   "source": [
    "import pandas as pd\n",
    "import numpy as np\n",
    "import csv\n",
    "\n",
    "# import data\n",
    "data = pd.read_csv(\"~/Downloads/healthcare/train_data.csv\")\n"
   ]
  },
  {
   "cell_type": "markdown",
   "id": "fb8806e9",
   "metadata": {},
   "source": [
    "### Data pre-processing"
   ]
  },
  {
   "cell_type": "code",
   "execution_count": 2,
   "id": "676d29c0",
   "metadata": {},
   "outputs": [
    {
     "data": {
      "text/html": [
       "<div>\n",
       "<style scoped>\n",
       "    .dataframe tbody tr th:only-of-type {\n",
       "        vertical-align: middle;\n",
       "    }\n",
       "\n",
       "    .dataframe tbody tr th {\n",
       "        vertical-align: top;\n",
       "    }\n",
       "\n",
       "    .dataframe thead th {\n",
       "        text-align: right;\n",
       "    }\n",
       "</style>\n",
       "<table border=\"1\" class=\"dataframe\">\n",
       "  <thead>\n",
       "    <tr style=\"text-align: right;\">\n",
       "      <th></th>\n",
       "      <th>Available Extra Rooms in Hospital</th>\n",
       "      <th>Type of Admission</th>\n",
       "      <th>Severity of Illness</th>\n",
       "      <th>Visitors with Patient</th>\n",
       "      <th>Age</th>\n",
       "      <th>Admission_Deposit</th>\n",
       "      <th>Stay</th>\n",
       "    </tr>\n",
       "  </thead>\n",
       "  <tbody>\n",
       "    <tr>\n",
       "      <th>0</th>\n",
       "      <td>3</td>\n",
       "      <td>Emergency</td>\n",
       "      <td>Extreme</td>\n",
       "      <td>2</td>\n",
       "      <td>51-60</td>\n",
       "      <td>4911</td>\n",
       "      <td>0-10</td>\n",
       "    </tr>\n",
       "    <tr>\n",
       "      <th>1</th>\n",
       "      <td>2</td>\n",
       "      <td>Trauma</td>\n",
       "      <td>Extreme</td>\n",
       "      <td>2</td>\n",
       "      <td>51-60</td>\n",
       "      <td>5954</td>\n",
       "      <td>41-50</td>\n",
       "    </tr>\n",
       "    <tr>\n",
       "      <th>2</th>\n",
       "      <td>2</td>\n",
       "      <td>Trauma</td>\n",
       "      <td>Extreme</td>\n",
       "      <td>2</td>\n",
       "      <td>51-60</td>\n",
       "      <td>4745</td>\n",
       "      <td>31-40</td>\n",
       "    </tr>\n",
       "    <tr>\n",
       "      <th>3</th>\n",
       "      <td>2</td>\n",
       "      <td>Trauma</td>\n",
       "      <td>Extreme</td>\n",
       "      <td>2</td>\n",
       "      <td>51-60</td>\n",
       "      <td>7272</td>\n",
       "      <td>41-50</td>\n",
       "    </tr>\n",
       "    <tr>\n",
       "      <th>4</th>\n",
       "      <td>2</td>\n",
       "      <td>Trauma</td>\n",
       "      <td>Extreme</td>\n",
       "      <td>2</td>\n",
       "      <td>51-60</td>\n",
       "      <td>5558</td>\n",
       "      <td>41-50</td>\n",
       "    </tr>\n",
       "    <tr>\n",
       "      <th>...</th>\n",
       "      <td>...</td>\n",
       "      <td>...</td>\n",
       "      <td>...</td>\n",
       "      <td>...</td>\n",
       "      <td>...</td>\n",
       "      <td>...</td>\n",
       "      <td>...</td>\n",
       "    </tr>\n",
       "    <tr>\n",
       "      <th>318433</th>\n",
       "      <td>3</td>\n",
       "      <td>Emergency</td>\n",
       "      <td>Moderate</td>\n",
       "      <td>3</td>\n",
       "      <td>41-50</td>\n",
       "      <td>4144</td>\n",
       "      <td>20-Nov</td>\n",
       "    </tr>\n",
       "    <tr>\n",
       "      <th>318434</th>\n",
       "      <td>2</td>\n",
       "      <td>Urgent</td>\n",
       "      <td>Moderate</td>\n",
       "      <td>4</td>\n",
       "      <td>81-90</td>\n",
       "      <td>6699</td>\n",
       "      <td>31-40</td>\n",
       "    </tr>\n",
       "    <tr>\n",
       "      <th>318435</th>\n",
       "      <td>3</td>\n",
       "      <td>Emergency</td>\n",
       "      <td>Minor</td>\n",
       "      <td>3</td>\n",
       "      <td>71-80</td>\n",
       "      <td>4235</td>\n",
       "      <td>20-Nov</td>\n",
       "    </tr>\n",
       "    <tr>\n",
       "      <th>318436</th>\n",
       "      <td>3</td>\n",
       "      <td>Trauma</td>\n",
       "      <td>Minor</td>\n",
       "      <td>5</td>\n",
       "      <td>20-Nov</td>\n",
       "      <td>3761</td>\n",
       "      <td>20-Nov</td>\n",
       "    </tr>\n",
       "    <tr>\n",
       "      <th>318437</th>\n",
       "      <td>5</td>\n",
       "      <td>Emergency</td>\n",
       "      <td>Minor</td>\n",
       "      <td>2</td>\n",
       "      <td>20-Nov</td>\n",
       "      <td>4752</td>\n",
       "      <td>0-10</td>\n",
       "    </tr>\n",
       "  </tbody>\n",
       "</table>\n",
       "<p>313793 rows × 7 columns</p>\n",
       "</div>"
      ],
      "text/plain": [
       "        Available Extra Rooms in Hospital Type of Admission  \\\n",
       "0                                       3         Emergency   \n",
       "1                                       2            Trauma   \n",
       "2                                       2            Trauma   \n",
       "3                                       2            Trauma   \n",
       "4                                       2            Trauma   \n",
       "...                                   ...               ...   \n",
       "318433                                  3         Emergency   \n",
       "318434                                  2            Urgent   \n",
       "318435                                  3         Emergency   \n",
       "318436                                  3            Trauma   \n",
       "318437                                  5         Emergency   \n",
       "\n",
       "       Severity of Illness  Visitors with Patient     Age  Admission_Deposit  \\\n",
       "0                  Extreme                      2   51-60               4911   \n",
       "1                  Extreme                      2   51-60               5954   \n",
       "2                  Extreme                      2   51-60               4745   \n",
       "3                  Extreme                      2   51-60               7272   \n",
       "4                  Extreme                      2   51-60               5558   \n",
       "...                    ...                    ...     ...                ...   \n",
       "318433            Moderate                      3   41-50               4144   \n",
       "318434            Moderate                      4   81-90               6699   \n",
       "318435               Minor                      3   71-80               4235   \n",
       "318436               Minor                      5  20-Nov               3761   \n",
       "318437               Minor                      2  20-Nov               4752   \n",
       "\n",
       "          Stay  \n",
       "0         0-10  \n",
       "1        41-50  \n",
       "2        31-40  \n",
       "3        41-50  \n",
       "4        41-50  \n",
       "...        ...  \n",
       "318433  20-Nov  \n",
       "318434   31-40  \n",
       "318435  20-Nov  \n",
       "318436  20-Nov  \n",
       "318437    0-10  \n",
       "\n",
       "[313793 rows x 7 columns]"
      ]
     },
     "execution_count": 2,
     "metadata": {},
     "output_type": "execute_result"
    }
   ],
   "source": [
    "# drop empty data\n",
    "data = data.dropna(axis=0, how='any', thresh=None, subset=None, inplace=False)\n",
    "\n",
    "# drop unimportant data\n",
    "data = data.drop(columns=[\"case_id\",\"Hospital_code\",\"Hospital_type_code\",\"City_Code_Hospital\",\n",
    "                          \"Hospital_region_code\",\"Department\",\"Ward_Type\",\"Ward_Facility_Code\",\n",
    "                          \"patientid\", \"City_Code_Patient\",\"Bed Grade\"])\n",
    "data\n"
   ]
  },
  {
   "cell_type": "code",
   "execution_count": 3,
   "id": "3717eccc",
   "metadata": {},
   "outputs": [],
   "source": [
    "# define stay time over 60 days as long-term, others as short-term\n",
    "from sklearn.preprocessing import LabelEncoder\n",
    "\n",
    "encoder= LabelEncoder().fit(data[\"Stay\"])\n",
    "data[\"Stay\"] = encoder.transform(data[\"Stay\"])"
   ]
  },
  {
   "cell_type": "code",
   "execution_count": 4,
   "id": "fd93267b",
   "metadata": {},
   "outputs": [],
   "source": [
    "data[\"y\"]= data[\"Stay\"].apply(lambda x: 1 if x>=6 else 0)"
   ]
  },
  {
   "cell_type": "code",
   "execution_count": 5,
   "id": "ee747b75",
   "metadata": {},
   "outputs": [
    {
     "data": {
      "text/html": [
       "<div>\n",
       "<style scoped>\n",
       "    .dataframe tbody tr th:only-of-type {\n",
       "        vertical-align: middle;\n",
       "    }\n",
       "\n",
       "    .dataframe tbody tr th {\n",
       "        vertical-align: top;\n",
       "    }\n",
       "\n",
       "    .dataframe thead th {\n",
       "        text-align: right;\n",
       "    }\n",
       "</style>\n",
       "<table border=\"1\" class=\"dataframe\">\n",
       "  <thead>\n",
       "    <tr style=\"text-align: right;\">\n",
       "      <th></th>\n",
       "      <th>Available Extra Rooms in Hospital</th>\n",
       "      <th>Type of Admission</th>\n",
       "      <th>Severity of Illness</th>\n",
       "      <th>Visitors with Patient</th>\n",
       "      <th>Age</th>\n",
       "      <th>Admission_Deposit</th>\n",
       "    </tr>\n",
       "  </thead>\n",
       "  <tbody>\n",
       "    <tr>\n",
       "      <th>0</th>\n",
       "      <td>3</td>\n",
       "      <td>Emergency</td>\n",
       "      <td>Extreme</td>\n",
       "      <td>2</td>\n",
       "      <td>51-60</td>\n",
       "      <td>4911</td>\n",
       "    </tr>\n",
       "    <tr>\n",
       "      <th>1</th>\n",
       "      <td>2</td>\n",
       "      <td>Trauma</td>\n",
       "      <td>Extreme</td>\n",
       "      <td>2</td>\n",
       "      <td>51-60</td>\n",
       "      <td>5954</td>\n",
       "    </tr>\n",
       "    <tr>\n",
       "      <th>2</th>\n",
       "      <td>2</td>\n",
       "      <td>Trauma</td>\n",
       "      <td>Extreme</td>\n",
       "      <td>2</td>\n",
       "      <td>51-60</td>\n",
       "      <td>4745</td>\n",
       "    </tr>\n",
       "    <tr>\n",
       "      <th>3</th>\n",
       "      <td>2</td>\n",
       "      <td>Trauma</td>\n",
       "      <td>Extreme</td>\n",
       "      <td>2</td>\n",
       "      <td>51-60</td>\n",
       "      <td>7272</td>\n",
       "    </tr>\n",
       "    <tr>\n",
       "      <th>4</th>\n",
       "      <td>2</td>\n",
       "      <td>Trauma</td>\n",
       "      <td>Extreme</td>\n",
       "      <td>2</td>\n",
       "      <td>51-60</td>\n",
       "      <td>5558</td>\n",
       "    </tr>\n",
       "  </tbody>\n",
       "</table>\n",
       "</div>"
      ],
      "text/plain": [
       "   Available Extra Rooms in Hospital Type of Admission Severity of Illness  \\\n",
       "0                                  3         Emergency             Extreme   \n",
       "1                                  2            Trauma             Extreme   \n",
       "2                                  2            Trauma             Extreme   \n",
       "3                                  2            Trauma             Extreme   \n",
       "4                                  2            Trauma             Extreme   \n",
       "\n",
       "   Visitors with Patient    Age  Admission_Deposit  \n",
       "0                      2  51-60               4911  \n",
       "1                      2  51-60               5954  \n",
       "2                      2  51-60               4745  \n",
       "3                      2  51-60               7272  \n",
       "4                      2  51-60               5558  "
      ]
     },
     "execution_count": 5,
     "metadata": {},
     "output_type": "execute_result"
    }
   ],
   "source": [
    "# define X, y\n",
    "y=data['y']\n",
    "X=data.drop(['Stay','y'], axis=1)\n",
    "X.head()\n"
   ]
  },
  {
   "cell_type": "code",
   "execution_count": 6,
   "id": "c05b6be9",
   "metadata": {},
   "outputs": [
    {
     "data": {
      "text/plain": [
       "0    286977\n",
       "1     26816\n",
       "Name: y, dtype: int64"
      ]
     },
     "execution_count": 6,
     "metadata": {},
     "output_type": "execute_result"
    }
   ],
   "source": [
    "y.value_counts()"
   ]
  },
  {
   "cell_type": "code",
   "execution_count": 7,
   "id": "f946e1a7",
   "metadata": {},
   "outputs": [
    {
     "data": {
      "text/plain": [
       "<AxesSubplot:xlabel='y', ylabel='count'>"
      ]
     },
     "execution_count": 7,
     "metadata": {},
     "output_type": "execute_result"
    },
    {
     "data": {
      "image/png": "[encoded data removed]",
      "text/plain": [
       "<Figure size 3600x1080 with 3 Axes>"
      ]
     },
     "metadata": {
      "needs_background": "light"
     },
     "output_type": "display_data"
    }
   ],
   "source": [
    "# plot for categorical parameters\n",
    "import matplotlib.pyplot as plt\n",
    "import seaborn as sns\n",
    "\n",
    "_,axss = plt.subplots(1,3, figsize=[50,15],squeeze = False)\n",
    "sns.countplot(x='y', hue='Age', data=data, ax=axss[0][0])\n",
    "sns.countplot(x='y', hue='Severity of Illness', data=data, ax=axss[0][1])\n",
    "sns.countplot(x='y', hue='Type of Admission', data=data, ax=axss[0][2])\n"
   ]
  },
  {
   "cell_type": "code",
   "execution_count": 8,
   "id": "13c74a82",
   "metadata": {},
   "outputs": [
    {
     "name": "stdout",
     "output_type": "stream",
     "text": [
      "training data has 219655 observation with 6 features\n",
      "test data has 94138 observation with 6 features\n"
     ]
    }
   ],
   "source": [
    "# split dataset\n",
    "from sklearn import model_selection\n",
    "\n",
    "X_train, X_test, y_train, y_test = model_selection.train_test_split(X, y, test_size=0.3, stratify = y, random_state=1) #stratified sampling\n",
    "\n",
    "print('training data has ' + str(X_train.shape[0]) + ' observation with ' + str(X_train.shape[1]) + ' features')\n",
    "print('test data has ' + str(X_test.shape[0]) + ' observation with ' + str(X_test.shape[1]) + ' features')\n"
   ]
  },
  {
   "cell_type": "code",
   "execution_count": 9,
   "id": "3d76c378",
   "metadata": {},
   "outputs": [],
   "source": [
    "# One hot encoding\n",
    "from sklearn.preprocessing import OneHotEncoder\n",
    "\n",
    "def OneHotEncoding(df, enc, categories):  \n",
    "  transformed = pd.DataFrame(enc.transform(df[categories]).toarray(), columns=enc.get_feature_names(categories))\n",
    "  return pd.concat([df.reset_index(drop=True), transformed], axis=1).drop(categories, axis=1)\n",
    "\n",
    "categories = ['Type of Admission']\n",
    "enc_ohe = OneHotEncoder()\n",
    "enc_ohe.fit(X_train[categories])\n",
    "X_train = OneHotEncoding(X_train, enc_ohe, categories)\n",
    "X_test = OneHotEncoding(X_test, enc_ohe, categories)\n",
    "\n",
    "categories = ['Severity of Illness']\n",
    "enc_ohe = OneHotEncoder()\n",
    "enc_ohe.fit(X_train[categories])\n",
    "X_train = OneHotEncoding(X_train, enc_ohe, categories)\n",
    "X_test = OneHotEncoding(X_test, enc_ohe, categories)\n",
    "\n",
    "categories = ['Age']\n",
    "enc_ohe = OneHotEncoder()\n",
    "enc_ohe.fit(X_train[categories])\n",
    "X_train = OneHotEncoding(X_train, enc_ohe, categories)\n",
    "X_test = OneHotEncoding(X_test, enc_ohe, categories)\n"
   ]
  },
  {
   "cell_type": "code",
   "execution_count": 10,
   "id": "981b988f",
   "metadata": {},
   "outputs": [
    {
     "data": {
      "text/plain": [
       "Index(['Available Extra Rooms in Hospital', 'Visitors with Patient',\n",
       "       'Admission_Deposit'],\n",
       "      dtype='object')"
      ]
     },
     "execution_count": 10,
     "metadata": {},
     "output_type": "execute_result"
    }
   ],
   "source": [
    "X_train.head()\n",
    "\n",
    "# define numerical & categorical data\n",
    "cat_cols = X.columns[X.dtypes == 'object']\n",
    "num_cols = X.columns[(X.dtypes == 'float64') | (X.dtypes == 'int64')]\n",
    "num_cols\n"
   ]
  },
  {
   "cell_type": "code",
   "execution_count": 11,
   "id": "abf1eb88",
   "metadata": {},
   "outputs": [],
   "source": [
    "# standardization (x-mean)/std\n",
    "\n",
    "from sklearn.preprocessing import StandardScaler\n",
    "scaler = StandardScaler()\n",
    "scaler.fit(X_train[num_cols])\n",
    "X_train[num_cols] = scaler.transform(X_train[num_cols])\n",
    "X_test[num_cols] = scaler.transform(X_test[num_cols])\n"
   ]
  },
  {
   "cell_type": "code",
   "execution_count": 12,
   "id": "192d2e92",
   "metadata": {},
   "outputs": [
    {
     "data": {
      "text/html": [
       "<div>\n",
       "<style scoped>\n",
       "    .dataframe tbody tr th:only-of-type {\n",
       "        vertical-align: middle;\n",
       "    }\n",
       "\n",
       "    .dataframe tbody tr th {\n",
       "        vertical-align: top;\n",
       "    }\n",
       "\n",
       "    .dataframe thead th {\n",
       "        text-align: right;\n",
       "    }\n",
       "</style>\n",
       "<table border=\"1\" class=\"dataframe\">\n",
       "  <thead>\n",
       "    <tr style=\"text-align: right;\">\n",
       "      <th></th>\n",
       "      <th>Available Extra Rooms in Hospital</th>\n",
       "      <th>Visitors with Patient</th>\n",
       "      <th>Admission_Deposit</th>\n",
       "      <th>Type of Admission_Emergency</th>\n",
       "      <th>Type of Admission_Trauma</th>\n",
       "      <th>Type of Admission_Urgent</th>\n",
       "      <th>Severity of Illness_Extreme</th>\n",
       "      <th>Severity of Illness_Minor</th>\n",
       "      <th>Severity of Illness_Moderate</th>\n",
       "      <th>Age_0-10</th>\n",
       "      <th>Age_20-Nov</th>\n",
       "      <th>Age_21-30</th>\n",
       "      <th>Age_31-40</th>\n",
       "      <th>Age_41-50</th>\n",
       "      <th>Age_51-60</th>\n",
       "      <th>Age_61-70</th>\n",
       "      <th>Age_71-80</th>\n",
       "      <th>Age_81-90</th>\n",
       "      <th>Age_91-100</th>\n",
       "    </tr>\n",
       "  </thead>\n",
       "  <tbody>\n",
       "    <tr>\n",
       "      <th>0</th>\n",
       "      <td>-1.026683</td>\n",
       "      <td>-0.727009</td>\n",
       "      <td>0.187687</td>\n",
       "      <td>0.0</td>\n",
       "      <td>0.0</td>\n",
       "      <td>1.0</td>\n",
       "      <td>0.0</td>\n",
       "      <td>0.0</td>\n",
       "      <td>1.0</td>\n",
       "      <td>0.0</td>\n",
       "      <td>0.0</td>\n",
       "      <td>0.0</td>\n",
       "      <td>0.0</td>\n",
       "      <td>0.0</td>\n",
       "      <td>0.0</td>\n",
       "      <td>0.0</td>\n",
       "      <td>1.0</td>\n",
       "      <td>0.0</td>\n",
       "      <td>0.0</td>\n",
       "    </tr>\n",
       "    <tr>\n",
       "      <th>1</th>\n",
       "      <td>-0.167708</td>\n",
       "      <td>7.212832</td>\n",
       "      <td>1.773780</td>\n",
       "      <td>0.0</td>\n",
       "      <td>0.0</td>\n",
       "      <td>1.0</td>\n",
       "      <td>1.0</td>\n",
       "      <td>0.0</td>\n",
       "      <td>0.0</td>\n",
       "      <td>0.0</td>\n",
       "      <td>0.0</td>\n",
       "      <td>0.0</td>\n",
       "      <td>0.0</td>\n",
       "      <td>1.0</td>\n",
       "      <td>0.0</td>\n",
       "      <td>0.0</td>\n",
       "      <td>0.0</td>\n",
       "      <td>0.0</td>\n",
       "      <td>0.0</td>\n",
       "    </tr>\n",
       "    <tr>\n",
       "      <th>2</th>\n",
       "      <td>0.691267</td>\n",
       "      <td>-0.727009</td>\n",
       "      <td>0.296185</td>\n",
       "      <td>0.0</td>\n",
       "      <td>0.0</td>\n",
       "      <td>1.0</td>\n",
       "      <td>0.0</td>\n",
       "      <td>0.0</td>\n",
       "      <td>1.0</td>\n",
       "      <td>0.0</td>\n",
       "      <td>0.0</td>\n",
       "      <td>1.0</td>\n",
       "      <td>0.0</td>\n",
       "      <td>0.0</td>\n",
       "      <td>0.0</td>\n",
       "      <td>0.0</td>\n",
       "      <td>0.0</td>\n",
       "      <td>0.0</td>\n",
       "      <td>0.0</td>\n",
       "    </tr>\n",
       "    <tr>\n",
       "      <th>3</th>\n",
       "      <td>-1.026683</td>\n",
       "      <td>-0.727009</td>\n",
       "      <td>1.089691</td>\n",
       "      <td>0.0</td>\n",
       "      <td>1.0</td>\n",
       "      <td>0.0</td>\n",
       "      <td>0.0</td>\n",
       "      <td>0.0</td>\n",
       "      <td>1.0</td>\n",
       "      <td>0.0</td>\n",
       "      <td>0.0</td>\n",
       "      <td>0.0</td>\n",
       "      <td>0.0</td>\n",
       "      <td>0.0</td>\n",
       "      <td>0.0</td>\n",
       "      <td>1.0</td>\n",
       "      <td>0.0</td>\n",
       "      <td>0.0</td>\n",
       "      <td>0.0</td>\n",
       "    </tr>\n",
       "    <tr>\n",
       "      <th>4</th>\n",
       "      <td>-0.167708</td>\n",
       "      <td>-0.727009</td>\n",
       "      <td>-0.597544</td>\n",
       "      <td>1.0</td>\n",
       "      <td>0.0</td>\n",
       "      <td>0.0</td>\n",
       "      <td>1.0</td>\n",
       "      <td>0.0</td>\n",
       "      <td>0.0</td>\n",
       "      <td>0.0</td>\n",
       "      <td>0.0</td>\n",
       "      <td>1.0</td>\n",
       "      <td>0.0</td>\n",
       "      <td>0.0</td>\n",
       "      <td>0.0</td>\n",
       "      <td>0.0</td>\n",
       "      <td>0.0</td>\n",
       "      <td>0.0</td>\n",
       "      <td>0.0</td>\n",
       "    </tr>\n",
       "  </tbody>\n",
       "</table>\n",
       "</div>"
      ],
      "text/plain": [
       "   Available Extra Rooms in Hospital  Visitors with Patient  \\\n",
       "0                          -1.026683              -0.727009   \n",
       "1                          -0.167708               7.212832   \n",
       "2                           0.691267              -0.727009   \n",
       "3                          -1.026683              -0.727009   \n",
       "4                          -0.167708              -0.727009   \n",
       "\n",
       "   Admission_Deposit  Type of Admission_Emergency  Type of Admission_Trauma  \\\n",
       "0           0.187687                          0.0                       0.0   \n",
       "1           1.773780                          0.0                       0.0   \n",
       "2           0.296185                          0.0                       0.0   \n",
       "3           1.089691                          0.0                       1.0   \n",
       "4          -0.597544                          1.0                       0.0   \n",
       "\n",
       "   Type of Admission_Urgent  Severity of Illness_Extreme  \\\n",
       "0                       1.0                          0.0   \n",
       "1                       1.0                          1.0   \n",
       "2                       1.0                          0.0   \n",
       "3                       0.0                          0.0   \n",
       "4                       0.0                          1.0   \n",
       "\n",
       "   Severity of Illness_Minor  Severity of Illness_Moderate  Age_0-10  \\\n",
       "0                        0.0                           1.0       0.0   \n",
       "1                        0.0                           0.0       0.0   \n",
       "2                        0.0                           1.0       0.0   \n",
       "3                        0.0                           1.0       0.0   \n",
       "4                        0.0                           0.0       0.0   \n",
       "\n",
       "   Age_20-Nov  Age_21-30  Age_31-40  Age_41-50  Age_51-60  Age_61-70  \\\n",
       "0         0.0        0.0        0.0        0.0        0.0        0.0   \n",
       "1         0.0        0.0        0.0        1.0        0.0        0.0   \n",
       "2         0.0        1.0        0.0        0.0        0.0        0.0   \n",
       "3         0.0        0.0        0.0        0.0        0.0        1.0   \n",
       "4         0.0        1.0        0.0        0.0        0.0        0.0   \n",
       "\n",
       "   Age_71-80  Age_81-90  Age_91-100  \n",
       "0        1.0        0.0         0.0  \n",
       "1        0.0        0.0         0.0  \n",
       "2        0.0        0.0         0.0  \n",
       "3        0.0        0.0         0.0  \n",
       "4        0.0        0.0         0.0  "
      ]
     },
     "execution_count": 12,
     "metadata": {},
     "output_type": "execute_result"
    }
   ],
   "source": [
    "X_train.head()"
   ]
  },
  {
   "cell_type": "markdown",
   "id": "8a2796d0",
   "metadata": {},
   "source": [
    "### Model Training"
   ]
  },
  {
   "cell_type": "code",
   "execution_count": 13,
   "id": "ef552f7a",
   "metadata": {},
   "outputs": [],
   "source": [
    "## predictive analytics\n",
    "# build models\n",
    "from sklearn.ensemble import RandomForestClassifier\n",
    "from sklearn.neighbors import KNeighborsClassifier \n",
    "from sklearn.linear_model import LogisticRegression\n",
    "\n",
    "# Logistic Regression\n",
    "classifier_logistic = LogisticRegression()\n",
    "\n",
    "# K Nearest Neighbors\n",
    "classifier_KNN = KNeighborsClassifier()\n",
    "\n",
    "# Random Forest\n",
    "classifier_RF = RandomForestClassifier()\n",
    "\n",
    "# function choosing hyperparameter & CV\n",
    "from sklearn.model_selection import GridSearchCV\n",
    "def print_grid_search_metrics(gs):\n",
    "    print (\"Best score: \" + str(gs.best_score_))\n",
    "    print (\"Best parameters set:\")\n",
    "    best_parameters = gs.best_params_\n",
    "    for param_name in sorted(best_parameters.keys()):\n",
    "        print(param_name + ':' + str(best_parameters[param_name]))\n"
   ]
  },
  {
   "cell_type": "code",
   "execution_count": 14,
   "id": "67fff105",
   "metadata": {},
   "outputs": [
    {
     "data": {
      "text/plain": [
       "0.9246637914550978"
      ]
     },
     "execution_count": 14,
     "metadata": {},
     "output_type": "execute_result"
    }
   ],
   "source": [
    "## logistic\n",
    "classifier_logistic = LogisticRegression()\n",
    "classifier_logistic.fit(X_train, y_train)\n",
    "classifier_logistic.predict(X_test)\n",
    "classifier_logistic.score(X_test, y_test)\n"
   ]
  },
  {
   "cell_type": "code",
   "execution_count": 15,
   "id": "b55b1f87",
   "metadata": {},
   "outputs": [
    {
     "data": {
      "text/plain": [
       "GridSearchCV(cv=5, estimator=LogisticRegression(solver='liblinear'),\n",
       "             param_grid={'C': (0.01, 0.05, 0.1, 0.2, 1),\n",
       "                         'penalty': ('l1', 'l2')})"
      ]
     },
     "execution_count": 15,
     "metadata": {},
     "output_type": "execute_result"
    }
   ],
   "source": [
    "parameters = {\n",
    "    'penalty':('l1', 'l2'), \n",
    "    'C':(0.01, 0.05, 0.1, 0.2, 1)\n",
    "}\n",
    "Grid_LR = GridSearchCV(LogisticRegression(solver='liblinear'),parameters, cv=5)\n",
    "Grid_LR.fit(X_train, y_train)"
   ]
  },
  {
   "cell_type": "code",
   "execution_count": 16,
   "id": "0d7f8e47",
   "metadata": {},
   "outputs": [
    {
     "name": "stdout",
     "output_type": "stream",
     "text": [
      "Best score: 0.9256424848057181\n",
      "Best parameters set:\n",
      "C:0.01\n",
      "penalty:l2\n"
     ]
    }
   ],
   "source": [
    "print_grid_search_metrics(Grid_LR)"
   ]
  },
  {
   "cell_type": "code",
   "execution_count": 17,
   "id": "b1d53b31",
   "metadata": {},
   "outputs": [],
   "source": [
    "best_LR_model = Grid_LR.best_estimator_"
   ]
  },
  {
   "cell_type": "code",
   "execution_count": 18,
   "id": "106ef880",
   "metadata": {},
   "outputs": [
    {
     "data": {
      "text/plain": [
       "LogisticRegression(C=0.01, solver='liblinear')"
      ]
     },
     "execution_count": 18,
     "metadata": {},
     "output_type": "execute_result"
    }
   ],
   "source": [
    "best_LR_model"
   ]
  },
  {
   "cell_type": "code",
   "execution_count": null,
   "id": "5219335f",
   "metadata": {},
   "outputs": [],
   "source": []
  },
  {
   "cell_type": "code",
   "execution_count": 19,
   "id": "ca0423ff",
   "metadata": {},
   "outputs": [
    {
     "data": {
      "text/plain": [
       "GridSearchCV(cv=5, estimator=KNeighborsClassifier(),\n",
       "             param_grid={'n_neighbors': [1, 3, 5]})"
      ]
     },
     "execution_count": 19,
     "metadata": {},
     "output_type": "execute_result"
    }
   ],
   "source": [
    "## KNN\n",
    "# Choose k\n",
    "parameters = {\n",
    "    'n_neighbors':[1,3,5]\n",
    "}\n",
    "Grid_KNN = GridSearchCV(KNeighborsClassifier(),parameters, cv=5)\n",
    "Grid_KNN.fit(X_train, y_train)"
   ]
  },
  {
   "cell_type": "code",
   "execution_count": 20,
   "id": "7781796e",
   "metadata": {},
   "outputs": [
    {
     "name": "stdout",
     "output_type": "stream",
     "text": [
      "Best score: 0.91751155220687\n",
      "Best parameters set:\n",
      "n_neighbors:5\n"
     ]
    }
   ],
   "source": [
    "# best k\n",
    "print_grid_search_metrics(Grid_KNN)"
   ]
  },
  {
   "cell_type": "code",
   "execution_count": 21,
   "id": "826ea6b5",
   "metadata": {},
   "outputs": [],
   "source": [
    "best_KNN_model = Grid_KNN.best_estimator_"
   ]
  },
  {
   "cell_type": "code",
   "execution_count": 22,
   "id": "cf6526b3",
   "metadata": {},
   "outputs": [
    {
     "data": {
      "text/plain": [
       "KNeighborsClassifier()"
      ]
     },
     "execution_count": 22,
     "metadata": {},
     "output_type": "execute_result"
    }
   ],
   "source": [
    "best_KNN_model"
   ]
  },
  {
   "cell_type": "code",
   "execution_count": null,
   "id": "5f45f660",
   "metadata": {},
   "outputs": [],
   "source": []
  },
  {
   "cell_type": "code",
   "execution_count": 23,
   "id": "778378c3",
   "metadata": {},
   "outputs": [
    {
     "data": {
      "text/plain": [
       "GridSearchCV(cv=5, estimator=RandomForestClassifier(),\n",
       "             param_grid={'max_depth': [1, 5, 10],\n",
       "                         'n_estimators': [60, 80, 100]})"
      ]
     },
     "execution_count": 23,
     "metadata": {},
     "output_type": "execute_result"
    }
   ],
   "source": [
    "## Random Forest\n",
    "# Possible hyperparamter options for Random Forest\n",
    "# Choose the number of trees\n",
    "parameters = {\n",
    "    'n_estimators' : [60,80,100],\n",
    "    'max_depth': [1,5,10]\n",
    "}\n",
    "Grid_RF = GridSearchCV(RandomForestClassifier(),parameters, cv=5)\n",
    "Grid_RF.fit(X_train, y_train)"
   ]
  },
  {
   "cell_type": "code",
   "execution_count": 24,
   "id": "3dcb45f9",
   "metadata": {},
   "outputs": [
    {
     "name": "stdout",
     "output_type": "stream",
     "text": [
      "Best score: 0.9255059069905078\n",
      "Best parameters set:\n",
      "max_depth:10\n",
      "n_estimators:100\n"
     ]
    }
   ],
   "source": [
    "# best number of tress\n",
    "print_grid_search_metrics(Grid_RF)"
   ]
  },
  {
   "cell_type": "code",
   "execution_count": 25,
   "id": "468a2daf",
   "metadata": {},
   "outputs": [],
   "source": [
    "# best random forest\n",
    "best_RF_model = Grid_RF.best_estimator_"
   ]
  },
  {
   "cell_type": "code",
   "execution_count": 26,
   "id": "df9821a2",
   "metadata": {},
   "outputs": [
    {
     "data": {
      "text/plain": [
       "RandomForestClassifier(max_depth=10)"
      ]
     },
     "execution_count": 26,
     "metadata": {},
     "output_type": "execute_result"
    }
   ],
   "source": [
    "best_RF_model"
   ]
  },
  {
   "cell_type": "code",
   "execution_count": null,
   "id": "2322071a",
   "metadata": {},
   "outputs": [],
   "source": []
  },
  {
   "cell_type": "markdown",
   "id": "aebf7b76",
   "metadata": {},
   "source": [
    "### Model performance"
   ]
  },
  {
   "cell_type": "code",
   "execution_count": 27,
   "id": "2e2a19a3",
   "metadata": {},
   "outputs": [],
   "source": [
    "# Plot confusion matrix\n",
    "from sklearn.metrics import confusion_matrix\n",
    "from sklearn.metrics import classification_report\n",
    "from sklearn.metrics import precision_score\n",
    "from sklearn.metrics import recall_score\n",
    "import seaborn as sns\n",
    "import matplotlib.pyplot as plt\n"
   ]
  },
  {
   "cell_type": "code",
   "execution_count": 28,
   "id": "9d690a20",
   "metadata": {},
   "outputs": [
    {
     "name": "stdout",
     "output_type": "stream",
     "text": [
      "       0     1\n",
      "0  85293   800\n",
      "1   6307  1738\n"
     ]
    },
    {
     "data": {
      "image/png": "[encoded data removed]",
      "text/plain": [
       "<Figure size 432x288 with 2 Axes>"
      ]
     },
     "metadata": {},
     "output_type": "display_data"
    },
    {
     "name": "stdout",
     "output_type": "stream",
     "text": [
      "              precision    recall  f1-score   support\n",
      "\n",
      "           0       0.93      0.99      0.96     86093\n",
      "           1       0.68      0.22      0.33      8045\n",
      "\n",
      "    accuracy                           0.92     94138\n",
      "   macro avg       0.81      0.60      0.64     94138\n",
      "weighted avg       0.91      0.92      0.91     94138\n",
      "\n"
     ]
    }
   ],
   "source": [
    "## logistic regression\n",
    "cm = confusion_matrix(y_test, best_LR_model.predict(X_test))\n",
    "df_cm = pd.DataFrame(cm)\n",
    "print(df_cm)\n",
    "sns.set(font_scale=1.2) # for label size\n",
    "sns.heatmap(df_cm, annot=True, annot_kws={\"size\": 12}) # font size\n",
    "plt.show()\n",
    "    \n",
    "#Print classification report\n",
    "cls = classification_report(y_test, best_LR_model.predict(X_test))\n",
    "print(cls)"
   ]
  },
  {
   "cell_type": "code",
   "execution_count": 29,
   "id": "c898be59",
   "metadata": {},
   "outputs": [
    {
     "data": {
      "text/plain": [
       "0.9246637914550978"
      ]
     },
     "execution_count": 29,
     "metadata": {},
     "output_type": "execute_result"
    }
   ],
   "source": [
    "classifier_logistic.score(X_test, y_test)"
   ]
  },
  {
   "cell_type": "code",
   "execution_count": null,
   "id": "0d78f1fc",
   "metadata": {},
   "outputs": [],
   "source": []
  },
  {
   "cell_type": "code",
   "execution_count": 30,
   "id": "607df1fe",
   "metadata": {},
   "outputs": [
    {
     "name": "stdout",
     "output_type": "stream",
     "text": [
      "       0     1\n",
      "0  84412  1681\n",
      "1   6122  1923\n"
     ]
    },
    {
     "data": {
      "image/png": "[encoded data removed]",
      "text/plain": [
       "<Figure size 432x288 with 2 Axes>"
      ]
     },
     "metadata": {},
     "output_type": "display_data"
    },
    {
     "name": "stdout",
     "output_type": "stream",
     "text": [
      "              precision    recall  f1-score   support\n",
      "\n",
      "           0       0.93      0.98      0.96     86093\n",
      "           1       0.53      0.24      0.33      8045\n",
      "\n",
      "    accuracy                           0.92     94138\n",
      "   macro avg       0.73      0.61      0.64     94138\n",
      "weighted avg       0.90      0.92      0.90     94138\n",
      "\n"
     ]
    }
   ],
   "source": [
    "## KNN\n",
    "cm = confusion_matrix(y_test, best_KNN_model.predict(X_test))\n",
    "df_cm = pd.DataFrame(cm)\n",
    "print(df_cm)\n",
    "sns.set(font_scale=1.2) # for label size\n",
    "sns.heatmap(df_cm, annot=True, annot_kws={\"size\": 12}) # font size\n",
    "plt.show()\n",
    "    \n",
    "#Print classification report\n",
    "cls = classification_report(y_test, best_KNN_model.predict(X_test))\n",
    "print(cls)"
   ]
  },
  {
   "cell_type": "code",
   "execution_count": 31,
   "id": "90cc808e",
   "metadata": {},
   "outputs": [
    {
     "data": {
      "text/plain": [
       "0.9171110497354947"
      ]
     },
     "execution_count": 31,
     "metadata": {},
     "output_type": "execute_result"
    }
   ],
   "source": [
    "best_KNN_model.score(X_test, y_test)"
   ]
  },
  {
   "cell_type": "code",
   "execution_count": null,
   "id": "00dda895",
   "metadata": {},
   "outputs": [],
   "source": []
  },
  {
   "cell_type": "code",
   "execution_count": 32,
   "id": "37809309",
   "metadata": {},
   "outputs": [
    {
     "name": "stdout",
     "output_type": "stream",
     "text": [
      "       0     1\n",
      "0  85626   467\n",
      "1   6627  1418\n"
     ]
    },
    {
     "data": {
      "image/png": "[encoded data removed]",
      "text/plain": [
       "<Figure size 432x288 with 2 Axes>"
      ]
     },
     "metadata": {},
     "output_type": "display_data"
    },
    {
     "name": "stdout",
     "output_type": "stream",
     "text": [
      "              precision    recall  f1-score   support\n",
      "\n",
      "           0       0.93      0.99      0.96     86093\n",
      "           1       0.75      0.18      0.29      8045\n",
      "\n",
      "    accuracy                           0.92     94138\n",
      "   macro avg       0.84      0.59      0.62     94138\n",
      "weighted avg       0.91      0.92      0.90     94138\n",
      "\n"
     ]
    }
   ],
   "source": [
    "## random forest\n",
    "cm = confusion_matrix(y_test, best_RF_model.predict(X_test))\n",
    "df_cm = pd.DataFrame(cm)\n",
    "print(df_cm)\n",
    "sns.set(font_scale=1.2) # for label size\n",
    "sns.heatmap(df_cm, annot=True, annot_kws={\"size\": 12}) # font size\n",
    "plt.show()\n",
    "    \n",
    "#Print classification report\n",
    "cls = classification_report(y_test, best_RF_model.predict(X_test))\n",
    "print(cls)"
   ]
  },
  {
   "cell_type": "code",
   "execution_count": 33,
   "id": "1b882672",
   "metadata": {},
   "outputs": [
    {
     "data": {
      "text/plain": [
       "0.9246425460494169"
      ]
     },
     "execution_count": 33,
     "metadata": {},
     "output_type": "execute_result"
    }
   ],
   "source": [
    "best_RF_model.score(X_test, y_test)"
   ]
  },
  {
   "cell_type": "code",
   "execution_count": null,
   "id": "10dc22e8",
   "metadata": {},
   "outputs": [],
   "source": []
  },
  {
   "cell_type": "code",
   "execution_count": 34,
   "id": "90e009b0",
   "metadata": {},
   "outputs": [],
   "source": [
    "# Plot ROC & AUC"
   ]
  },
  {
   "cell_type": "code",
   "execution_count": 35,
   "id": "32305455",
   "metadata": {},
   "outputs": [],
   "source": [
    "from sklearn.metrics import roc_curve\n",
    "from sklearn import metrics\n"
   ]
  },
  {
   "cell_type": "code",
   "execution_count": 36,
   "id": "251340ed",
   "metadata": {
    "scrolled": true
   },
   "outputs": [
    {
     "data": {
      "image/png": "[encoded data removed]",
      "text/plain": [
       "<Figure size 432x288 with 1 Axes>"
      ]
     },
     "metadata": {},
     "output_type": "display_data"
    }
   ],
   "source": [
    "# Use predict probability to get results of Logistic Regression\n",
    "y_pred_lr = best_LR_model.predict_proba(X_test)[:, 1]\n",
    "fpr_lr, tpr_lr, _ = roc_curve(y_test, y_pred_lr)\n",
    "\n",
    "# ROC curve of Logistic Regression\n",
    "plt.figure(1)\n",
    "plt.plot([0, 1], [0, 1], 'k--')\n",
    "plt.plot(fpr_lr, tpr_lr, label='LR')\n",
    "plt.xlabel('False positive rate')\n",
    "plt.ylabel('True positive rate')\n",
    "plt.title('ROC curve - LR model')\n",
    "plt.legend(loc='best')\n",
    "plt.show()"
   ]
  },
  {
   "cell_type": "code",
   "execution_count": 37,
   "id": "dbc32bab",
   "metadata": {},
   "outputs": [
    {
     "data": {
      "text/plain": [
       "0.8359501909410595"
      ]
     },
     "execution_count": 37,
     "metadata": {},
     "output_type": "execute_result"
    }
   ],
   "source": [
    "# AUC score LR\n",
    "metrics.auc(fpr_lr,tpr_lr)"
   ]
  },
  {
   "cell_type": "code",
   "execution_count": null,
   "id": "e5a48afa",
   "metadata": {},
   "outputs": [],
   "source": []
  },
  {
   "cell_type": "code",
   "execution_count": 42,
   "id": "9c39a238",
   "metadata": {},
   "outputs": [
    {
     "data": {
      "image/png": "[encoded data removed]",
      "text/plain": [
       "<Figure size 432x288 with 1 Axes>"
      ]
     },
     "metadata": {},
     "output_type": "display_data"
    }
   ],
   "source": [
    "# Use predict probability to get results of KNN\n",
    "y_pred_knn = best_KNN_model.predict_proba(X_test)[:, 1]\n",
    "fpr_knn, tpr_knn, _ = roc_curve(y_test, y_pred_knn)\n",
    "\n",
    "# ROC curve of KNN result\n",
    "import matplotlib.pyplot as plt\n",
    "plt.figure(1)\n",
    "plt.plot([0, 1], [0, 1], 'k--')\n",
    "plt.plot(fpr_knn, tpr_knn, label='KNN')\n",
    "plt.xlabel('False positive rate')\n",
    "plt.ylabel('True positive rate')\n",
    "plt.title('ROC curve - KNN model')\n",
    "plt.legend(loc='best')\n",
    "plt.show()"
   ]
  },
  {
   "cell_type": "code",
   "execution_count": 43,
   "id": "7f8aa5e0",
   "metadata": {},
   "outputs": [
    {
     "data": {
      "text/plain": [
       "0.7378444885907811"
      ]
     },
     "execution_count": 43,
     "metadata": {},
     "output_type": "execute_result"
    }
   ],
   "source": [
    "# AUC score KNN\n",
    "metrics.auc(fpr_knn,tpr_knn)"
   ]
  },
  {
   "cell_type": "code",
   "execution_count": null,
   "id": "1ece7c4b",
   "metadata": {},
   "outputs": [],
   "source": []
  },
  {
   "cell_type": "code",
   "execution_count": 44,
   "id": "f30001c5",
   "metadata": {},
   "outputs": [
    {
     "data": {
      "image/png": "[encoded data removed]",
      "text/plain": [
       "<Figure size 432x288 with 1 Axes>"
      ]
     },
     "metadata": {},
     "output_type": "display_data"
    }
   ],
   "source": [
    "# Use predict probability to get results of Random Forest\n",
    "y_pred_rf = best_RF_model.predict_proba(X_test)[:, 1]\n",
    "fpr_rf, tpr_rf, _ = roc_curve(y_test, y_pred_rf)\n",
    "\n",
    "# ROC curve of Random Forest result\n",
    "import matplotlib.pyplot as plt\n",
    "plt.figure(1)\n",
    "plt.plot([0, 1], [0, 1], 'k--')\n",
    "plt.plot(fpr_rf, tpr_rf, label='RF')\n",
    "plt.xlabel('False positive rate')\n",
    "plt.ylabel('True positive rate')\n",
    "plt.title('ROC curve - RF model')\n",
    "plt.legend(loc='best')\n",
    "plt.show()"
   ]
  },
  {
   "cell_type": "code",
   "execution_count": 45,
   "id": "8f490e28",
   "metadata": {},
   "outputs": [
    {
     "data": {
      "text/plain": [
       "0.8436683776935485"
      ]
     },
     "execution_count": 45,
     "metadata": {},
     "output_type": "execute_result"
    }
   ],
   "source": [
    "# AUC score RF\n",
    "metrics.auc(fpr_rf,tpr_rf)"
   ]
  },
  {
   "cell_type": "markdown",
   "id": "65169594",
   "metadata": {},
   "source": [
    "### Final result"
   ]
  },
  {
   "cell_type": "markdown",
   "id": "455e1db1",
   "metadata": {},
   "source": [
    "From the above results, the random forest model has the best statistical result."
   ]
  },
  {
   "cell_type": "code",
   "execution_count": null,
   "id": "c92c52c2",
   "metadata": {},
   "outputs": [],
   "source": []
  }
 ],
 "metadata": {
  "kernelspec": {
   "display_name": "Python 3 (ipykernel)",
   "language": "python",
   "name": "python3"
  },
  "language_info": {
   "codemirror_mode": {
    "name": "ipython",
    "version": 3
   },
   "file_extension": ".py",
   "mimetype": "text/x-python",
   "name": "python",
   "nbconvert_exporter": "python",
   "pygments_lexer": "ipython3",
   "version": "3.9.7"
  }
 },
 "nbformat": 4,
 "nbformat_minor": 5
}
